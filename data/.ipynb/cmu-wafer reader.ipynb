{
 "cells": [
  {
   "cell_type": "code",
   "execution_count": 78,
   "metadata": {},
   "outputs": [],
   "source": [
    "import csv\n",
    "import os \n",
    "import numpy as np"
   ]
  },
  {
   "cell_type": "code",
   "execution_count": 2,
   "metadata": {},
   "outputs": [
    {
     "data": {
      "text/plain": [
       "['README', 'abnormal', 'normal']"
      ]
     },
     "execution_count": 2,
     "metadata": {},
     "output_type": "execute_result"
    }
   ],
   "source": [
    "#os.listdir(\"cmu-wafer\")"
   ]
  },
  {
   "cell_type": "code",
   "execution_count": 33,
   "metadata": {},
   "outputs": [],
   "source": [
    "# constant\n",
    "normal_dir = os.path.join(\"cmu-wafer\", \"normal\")\n",
    "abnormal_dir = os.path.join(\"cmu-wafer\", \"abnormal\")"
   ]
  },
  {
   "cell_type": "code",
   "execution_count": 30,
   "metadata": {},
   "outputs": [],
   "source": [
    "def parse_filename(filename: str):\n",
    "    return filename.split(\".\")\n",
    "\n",
    "def dtoi(desc: str):\n",
    "    return ('6', '7', '8', '11', '12', '15').index(desc)"
   ]
  },
  {
   "cell_type": "code",
   "execution_count": 35,
   "metadata": {},
   "outputs": [],
   "source": [
    "def read_file(filedir):\n",
    "    with open(filedir, 'r') as f:\n",
    "        r = csv.reader(f, delimiter='\\t')\n",
    "        try:\n",
    "            return [line[1] for line in r]\n",
    "        except:\n",
    "            print(filedir)\n",
    "            return"
   ]
  },
  {
   "cell_type": "code",
   "execution_count": 102,
   "metadata": {},
   "outputs": [],
   "source": [
    "def read_abnormal():\n",
    "    data = {}\n",
    "    labels = {}\n",
    "    for filename in os.listdir(abnormal_dir):\n",
    "        filedir = os.path.join(abnormal_dir, filename)\n",
    "        run_wafer, desc = parse_filename(filename)\n",
    "        if desc not in ('6', '7', '8', '11', '12', '15'):\n",
    "            continue\n",
    "        if not run_wafer in data.keys():\n",
    "            data[run_wafer] = [None] * 6\n",
    "        data[run_wafer][dtoi(desc)] = read_file(filedir)\n",
    "        labels[run_wafer] = 1\n",
    "    return data, labels\n",
    "\n",
    "def read_normal():\n",
    "    data = {}\n",
    "    labels = {}\n",
    "    for filename in os.listdir(normal_dir):\n",
    "        filedir = os.path.join(normal_dir, filename)\n",
    "        run_wafer, desc = parse_filename(filename)\n",
    "        if desc not in ('6', '7', '8', '11', '12', '15'):\n",
    "            continue\n",
    "        if not run_wafer in data.keys():\n",
    "            data[run_wafer] = [None] * 6\n",
    "        data[run_wafer][dtoi(desc)] = read_file(filedir)\n",
    "        labels[run_wafer] = 0\n",
    "    return data, labels"
   ]
  },
  {
   "cell_type": "code",
   "execution_count": 106,
   "metadata": {},
   "outputs": [],
   "source": [
    "ab_data, ab_labels = read_abnormal()\n",
    "no_data, no_labels = read_normal()\n",
    "\n",
    "# merge normal & abnormal data\n",
    "data_dict = {**ab_data, **no_data}\n",
    "labels_dict = {**ab_labels, **no_labels}\n",
    "\n",
    "# integrity check\n",
    "assert data_dict.keys() == labels_dict.keys()\n",
    "\n",
    "data = []\n",
    "labels = []\n",
    "\n",
    "for key in sorted(data_dict.keys()):\n",
    "    data.append(np.asarray(data_dict[key])[:, :100])\n",
    "    labels.append(np.asarray(labels_dict[key]))\n",
    "\n",
    "data = np.array(data)\n",
    "labels = np.reshape(labels, -1) "
   ]
  },
  {
   "cell_type": "code",
   "execution_count": 115,
   "metadata": {
    "scrolled": true
   },
   "outputs": [
    {
     "name": "stdout",
     "output_type": "stream",
     "text": [
      "[ 711  980 1041 ...  835  559  684]\n"
     ]
    }
   ],
   "source": [
    "np.random.seed(0)\n",
    "x = np.arange(len(data_))\n",
    "np.random.shuffle(x)\n",
    "print(x)\n",
    "data = data_[x]\n",
    "labels = labels_[x]"
   ]
  },
  {
   "cell_type": "code",
   "execution_count": 118,
   "metadata": {},
   "outputs": [
    {
     "ename": "SyntaxError",
     "evalue": "'return' outside function (<ipython-input-118-fb6ed5d81b86>, line 7)",
     "output_type": "error",
     "traceback": [
      "\u001b[0;36m  File \u001b[0;32m\"<ipython-input-118-fb6ed5d81b86>\"\u001b[0;36m, line \u001b[0;32m7\u001b[0m\n\u001b[0;31m    return Data(train_data, train_labels, test_data, test_labels)\u001b[0m\n\u001b[0m                                                                 ^\u001b[0m\n\u001b[0;31mSyntaxError\u001b[0m\u001b[0;31m:\u001b[0m 'return' outside function\n"
     ]
    }
   ],
   "source": [
    "train_data = data[:800]\n",
    "test_data = data[800:]\n",
    "\n",
    "train_labels = labels[:800]\n",
    "test_labels = labels[800:]\n",
    "\n",
    "#return Data(train_data, train_labels, test_data, test_labels)"
   ]
  },
  {
   "cell_type": "code",
   "execution_count": null,
   "metadata": {},
   "outputs": [],
   "source": [
    "def _read_cmu_wafer():\n",
    "    \n",
    "    def parse_filename(filename: str):\n",
    "        return filename.split(\".\")\n",
    "\n",
    "    def dtoi(desc: str):\n",
    "        return ('6', '7', '8', '11', '12', '15').index(desc)\n",
    "    \n",
    "    def read_file(filedir):\n",
    "        with open(filedir, 'r') as f:\n",
    "            r = csv.reader(f, delimiter='\\t')\n",
    "            try:\n",
    "                return [line[1] for line in r]\n",
    "            except:\n",
    "                print(filedir)\n",
    "                return\n",
    "    \n",
    "    def read_abnormal():\n",
    "        data = {}\n",
    "        labels = {}\n",
    "        for filename in os.listdir(abnormal_dir):\n",
    "            filedir = os.path.join(abnormal_dir, filename)\n",
    "            run_wafer, desc = parse_filename(filename)\n",
    "            if desc not in ('6', '7', '8', '11', '12', '15'):\n",
    "                continue\n",
    "            if not run_wafer in data.keys():\n",
    "                data[run_wafer] = [None] * 6\n",
    "            data[run_wafer][dtoi(desc)] = read_file(filedir)\n",
    "            labels[run_wafer] = 1\n",
    "        return data, labels\n",
    "\n",
    "    def read_normal():\n",
    "        data = {}\n",
    "        labels = {}\n",
    "        for filename in os.listdir(normal_dir):\n",
    "            filedir = os.path.join(normal_dir, filename)\n",
    "            run_wafer, desc = parse_filename(filename)\n",
    "            if desc not in ('6', '7', '8', '11', '12', '15'):\n",
    "                continue\n",
    "            if not run_wafer in data.keys():\n",
    "                data[run_wafer] = [None] * 6\n",
    "            data[run_wafer][dtoi(desc)] = read_file(filedir)\n",
    "            labels[run_wafer] = 0\n",
    "        return data, labels\n",
    "    \n",
    "    ab_data, ab_labels = read_abnormal()\n",
    "    no_data, no_labels = read_normal()\n",
    "\n",
    "    # merge normal & abnormal data\n",
    "    data_dict = {**ab_data, **no_data}\n",
    "    labels_dict = {**ab_labels, **no_labels}\n",
    "\n",
    "    # integrity check\n",
    "    assert data_dict.keys() == labels_dict.keys()\n",
    "\n",
    "    data = []\n",
    "    labels = []\n",
    "\n",
    "    for key in sorted(data_dict.keys()):\n",
    "        data.append(np.asarray(data_dict[key])[:, :100])\n",
    "        labels.append(np.asarray(labels_dict[key]))\n",
    "\n",
    "    data = np.array(data)\n",
    "    labels = np.reshape(labels, -1) \n",
    "    \n",
    "    np.random.seed(0)\n",
    "    x = np.arange(len(data_))\n",
    "    np.random.shuffle(x)\n",
    "    print(x)\n",
    "    data = data_[x]\n",
    "    labels = labels_[x]\n",
    "    \n",
    "    train_data = data[:800]\n",
    "    test_data = data[800:]\n",
    "\n",
    "    train_labels = labels[:800]\n",
    "    test_labels = labels[800:]\n",
    "\n",
    "    return Data(train_data, train_labels, test_data, test_labels)"
   ]
  }
 ],
 "metadata": {
  "kernelspec": {
   "display_name": "Python 3",
   "language": "python",
   "name": "python3"
  },
  "language_info": {
   "codemirror_mode": {
    "name": "ipython",
    "version": 3
   },
   "file_extension": ".py",
   "mimetype": "text/x-python",
   "name": "python",
   "nbconvert_exporter": "python",
   "pygments_lexer": "ipython3",
   "version": "3.5.2"
  }
 },
 "nbformat": 4,
 "nbformat_minor": 2
}
